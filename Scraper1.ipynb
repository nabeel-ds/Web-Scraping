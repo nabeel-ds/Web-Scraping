{
  "nbformat": 4,
  "nbformat_minor": 0,
  "metadata": {
    "colab": {
      "name": "Scraper1.ipynb",
      "provenance": [],
      "collapsed_sections": [],
      "include_colab_link": true
    },
    "kernelspec": {
      "name": "python3",
      "display_name": "Python 3"
    }
  },
  "cells": [
    {
      "cell_type": "markdown",
      "metadata": {
        "id": "view-in-github",
        "colab_type": "text"
      },
      "source": [
        "<a href=\"https://colab.research.google.com/github/nabeel-ds/Web-Scraping/blob/main/Scraper1.ipynb\" target=\"_parent\"><img src=\"https://colab.research.google.com/assets/colab-badge.svg\" alt=\"Open In Colab\"/></a>"
      ]
    },
    {
      "cell_type": "markdown",
      "metadata": {
        "id": "z6-kQHSuhz_0"
      },
      "source": [
        ""
      ]
    },
    {
      "cell_type": "code",
      "metadata": {
        "colab": {
          "base_uri": "https://localhost:8080/"
        },
        "id": "9Ovqd3drt5pt",
        "outputId": "ddd7f98c-a62f-4248-958c-6b2786b6ce95"
      },
      "source": [
        "!pip install kora -q\n",
        "from kora.selenium import wd\n",
        "from bs4 import BeautifulSoup\n",
        "import csv\n",
        "import time\n",
        "\n",
        "Start_url= \"https://exoplanets.nasa.gov/discovery/exoplanet-catalog/\"\n",
        "wd.get(Start_url)\n",
        "time.sleep(10)"
      ],
      "execution_count": null,
      "outputs": [
        {
          "output_type": "stream",
          "text": [
            "\u001b[K     |████████████████████████████████| 61kB 4.1MB/s \n",
            "\u001b[K     |████████████████████████████████| 61kB 6.7MB/s \n",
            "\u001b[?25h"
          ],
          "name": "stdout"
        }
      ]
    },
    {
      "cell_type": "code",
      "metadata": {
        "id": "9JNrW4fisy4C"
      },
      "source": [
        "def scrape():\n",
        "    headers = [\"name\", \"light_years_from_earth\", \"planet_mass\", \"stellar_magnitude\", \"discovery_date\"]\n",
        "    planet_data = []\n",
        "    for i in range(0, 428):\n",
        "        soup = BeautifulSoup(wd.page_source, \"html.parser\")\n",
        "        for ul_tag in soup.find_all(\"ul\", attrs={\"class\", \"exoplanet\"}):\n",
        "            li_tags = ul_tag.find_all(\"li\")\n",
        "            temp_list = []\n",
        "            for index, li_tag in enumerate(li_tags):\n",
        "                if index == 0:\n",
        "                    temp_list.append(li_tag.find_all(\"a\")[0].contents[0])\n",
        "                else:\n",
        "                    try:\n",
        "                        temp_list.append(li_tag.contents[0])\n",
        "                    except:\n",
        "                        temp_list.append(\"\")\n",
        "            planet_data.append(temp_list)\n",
        "        wd.find_element_by_xpath('//*[@id=\"primary_column\"]/footer/div/div/div/nav/span[2]/a').click()\n",
        "    with open(\"scrapper_2.csv\", \"w\") as f:\n",
        "        csvwriter = csv.writer(f)\n",
        "        csvwriter.writerow(headers)\n",
        "        csvwriter.writerows(planet_data)\n",
        "scrape()"
      ],
      "execution_count": null,
      "outputs": []
    },
    {
      "cell_type": "code",
      "metadata": {
        "colab": {
          "base_uri": "https://localhost:8080/",
          "height": 205
        },
        "id": "BeEtfKCXu86g",
        "outputId": "f4792d56-8d2d-4b14-8b63-44efeb9318bb"
      },
      "source": [
        "import pandas as pd\n",
        "\n",
        "df= pd.read_csv('scrapper_2.csv')\n",
        "df.head()"
      ],
      "execution_count": null,
      "outputs": [
        {
          "output_type": "execute_result",
          "data": {
            "text/html": [
              "<div>\n",
              "<style scoped>\n",
              "    .dataframe tbody tr th:only-of-type {\n",
              "        vertical-align: middle;\n",
              "    }\n",
              "\n",
              "    .dataframe tbody tr th {\n",
              "        vertical-align: top;\n",
              "    }\n",
              "\n",
              "    .dataframe thead th {\n",
              "        text-align: right;\n",
              "    }\n",
              "</style>\n",
              "<table border=\"1\" class=\"dataframe\">\n",
              "  <thead>\n",
              "    <tr style=\"text-align: right;\">\n",
              "      <th></th>\n",
              "      <th>name</th>\n",
              "      <th>light_years_from_earth</th>\n",
              "      <th>planet_mass</th>\n",
              "      <th>stellar_magnitude</th>\n",
              "      <th>discovery_date</th>\n",
              "    </tr>\n",
              "  </thead>\n",
              "  <tbody>\n",
              "    <tr>\n",
              "      <th>0</th>\n",
              "      <td>11 Comae Berenices b</td>\n",
              "      <td>304.0</td>\n",
              "      <td>19.4 Jupiters</td>\n",
              "      <td>4.72307</td>\n",
              "      <td>2007</td>\n",
              "    </tr>\n",
              "    <tr>\n",
              "      <th>1</th>\n",
              "      <td>11 Ursae Minoris b</td>\n",
              "      <td>409.0</td>\n",
              "      <td>14.74 Jupiters</td>\n",
              "      <td>5.01300</td>\n",
              "      <td>2009</td>\n",
              "    </tr>\n",
              "    <tr>\n",
              "      <th>2</th>\n",
              "      <td>14 Andromedae b</td>\n",
              "      <td>246.0</td>\n",
              "      <td>4.8 Jupiters</td>\n",
              "      <td>5.23133</td>\n",
              "      <td>2008</td>\n",
              "    </tr>\n",
              "    <tr>\n",
              "      <th>3</th>\n",
              "      <td>14 Herculis b</td>\n",
              "      <td>58.0</td>\n",
              "      <td>4.66 Jupiters</td>\n",
              "      <td>6.61935</td>\n",
              "      <td>2002</td>\n",
              "    </tr>\n",
              "    <tr>\n",
              "      <th>4</th>\n",
              "      <td>16 Cygni B b</td>\n",
              "      <td>69.0</td>\n",
              "      <td>1.78 Jupiters</td>\n",
              "      <td>6.21500</td>\n",
              "      <td>1996</td>\n",
              "    </tr>\n",
              "  </tbody>\n",
              "</table>\n",
              "</div>"
            ],
            "text/plain": [
              "                   name  ...  discovery_date\n",
              "0  11 Comae Berenices b  ...            2007\n",
              "1    11 Ursae Minoris b  ...            2009\n",
              "2       14 Andromedae b  ...            2008\n",
              "3         14 Herculis b  ...            2002\n",
              "4          16 Cygni B b  ...            1996\n",
              "\n",
              "[5 rows x 5 columns]"
            ]
          },
          "metadata": {
            "tags": []
          },
          "execution_count": 3
        }
      ]
    }
  ]
}