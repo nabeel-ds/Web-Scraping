{
  "nbformat": 4,
  "nbformat_minor": 0,
  "metadata": {
    "colab": {
      "name": "Scraper 2 .ipynb",
      "provenance": [],
      "collapsed_sections": [],
      "authorship_tag": "ABX9TyNh7uT01hG8B13w86W1+HYv",
      "include_colab_link": true
    },
    "kernelspec": {
      "name": "python3",
      "display_name": "Python 3"
    },
    "language_info": {
      "name": "python"
    },
    "accelerator": "TPU"
  },
  "cells": [
    {
      "cell_type": "markdown",
      "metadata": {
        "id": "view-in-github",
        "colab_type": "text"
      },
      "source": [
        "<a href=\"https://colab.research.google.com/github/nabeel-ds/Web-Scraping/blob/main/Scraper_2_.ipynb\" target=\"_parent\"><img src=\"https://colab.research.google.com/assets/colab-badge.svg\" alt=\"Open In Colab\"/></a>"
      ]
    },
    {
      "cell_type": "code",
      "metadata": {
        "colab": {
          "base_uri": "https://localhost:8080/"
        },
        "id": "EZJfM-Kau9Pp",
        "outputId": "837cd7a9-2f67-4a9b-9d92-a3566cb04032"
      },
      "source": [
        "!pip install kora -q\n",
        "from kora.selenium import wd\n",
        "from bs4 import BeautifulSoup\n",
        "import csv\n",
        "import time\n",
        "import requests\n",
        "\n",
        "Start_url= \"https://exoplanets.nasa.gov/discovery/exoplanet-catalog/\"\n",
        "wd.get(Start_url)\n",
        "time.sleep(10)"
      ],
      "execution_count": null,
      "outputs": [
        {
          "output_type": "stream",
          "name": "stdout",
          "text": [
            "\u001b[K     |████████████████████████████████| 57 kB 2.7 MB/s \n",
            "\u001b[K     |████████████████████████████████| 56 kB 3.2 MB/s \n",
            "\u001b[?25h"
          ]
        }
      ]
    },
    {
      "cell_type": "code",
      "metadata": {
        "id": "CWq_uyTIu0rT"
      },
      "source": [
        "headers = [\"name\", \"light_years_from_earth\", \"planet_mass\", \"stellar_magnitude\", \"discovery_date\", \"hyperlink\", \"planet_type\", \"planet_radius\", \"orbital_radius\", \"orbital_period\", \"eccentricity\"]\n",
        "planet_data = []\n",
        "new_planet_data = []\n",
        "def scrape():\n",
        "    for i in range(1, 100):\n",
        "        while True:\n",
        "            time.sleep(2)\n",
        "            soup = BeautifulSoup(wd.page_source, \"html.parser\")\n",
        "            current_page_num = int(soup.find_all(\"input\", attrs={\"class\", \"page_num\"})[0].get(\"value\"))\n",
        "            if current_page_num < i:\n",
        "                browser.find_element_by_xpath('//*[@id=\"primary_column\"]/footer/div/div/div/nav/span[2]/a').click()\n",
        "            elif current_page_num > i:\n",
        "                browser.find_element_by_xpath('//*[@id=\"primary_column\"]/footer/div/div/div/nav/span[1]/a').click()\n",
        "            else:\n",
        "                break\n",
        "        for ul_tag in soup.find_all(\"ul\", attrs={\"class\", \"exoplanet\"}):\n",
        "            li_tags = ul_tag.find_all(\"li\")\n",
        "            temp_list = []\n",
        "            for index, li_tag in enumerate(li_tags):\n",
        "                if index == 0:\n",
        "                    temp_list.append(li_tag.find_all(\"a\")[0].contents[0])\n",
        "                else:\n",
        "                    try:\n",
        "                        temp_list.append(li_tag.contents[0])\n",
        "                    except:\n",
        "                        temp_list.append(\"\")\n",
        "            hyperlink_li_tag = li_tags[0]\n",
        "            temp_list.append(\"https://exoplanets.nasa.gov\"+hyperlink_li_tag.find_all(\"a\", href=True)[0][\"href\"])\n",
        "            planet_data.append(temp_list)\n",
        "        wd.find_element_by_xpath('//*[@id=\"primary_column\"]/footer/div/div/div/nav/span[2]/a').click()\n",
        "        \n",
        "\n"
      ],
      "execution_count": null,
      "outputs": []
    },
    {
      "cell_type": "code",
      "metadata": {
        "id": "assyjXM6vQeo"
      },
      "source": [
        "def scrape_more_data(hyperlink):\n",
        "    try:\n",
        "        page = requests.get(hyperlink)\n",
        "        soup = BeautifulSoup(page.content, \"html.parser\")\n",
        "        temp_list = []\n",
        "        for tr_tag in soup.find_all(\"tr\", attrs={\"class\": \"fact_row\"}):\n",
        "            td_tags = tr_tag.find_all(\"td\")\n",
        "            for td_tag in td_tags:\n",
        "                try:\n",
        "                    temp_list.append(td_tag.find_all(\"div\", attrs={\"class\": \"value\"})[0].contents[0])\n",
        "                except:\n",
        "                    temp_list.append(\"\")\n",
        "        new_planet_data.append(temp_list)\n",
        "    except:\n",
        "        time.sleep(1)\n"
      ],
      "execution_count": null,
      "outputs": []
    },
    {
      "cell_type": "code",
      "metadata": {
        "id": "J0T4stWHr89K"
      },
      "source": [
        "scrape()"
      ],
      "execution_count": null,
      "outputs": []
    },
    {
      "cell_type": "code",
      "metadata": {
        "id": "D3Axk-DtrrE3"
      },
      "source": [
        "for index, data in enumerate(planet_data):\n",
        "    scrape_more_data(data[5])\n",
        "final=[]\n",
        "for index, data in enumerate(planet_data):\n",
        "    new_planet = new_planet_data[index]\n",
        "    new_planet = [elem.replace(\"\\n\", \"\") for elem in new_planet]\n",
        "    new_planet = new_planet[:7]\n",
        "    final.append(data+ new_planet)\n",
        "\n"
      ],
      "execution_count": null,
      "outputs": []
    },
    {
      "cell_type": "code",
      "metadata": {
        "id": "fx1d9Aaq6CP7"
      },
      "source": [
        "with open(\"final.csv\", \"w\") as f:\n",
        "        csvwriter = csv.writer(f)\n",
        "        csvwriter.writerow(headers)\n",
        "        csvwriter.writerows(final)\n",
        "\n",
        "\n"
      ],
      "execution_count": null,
      "outputs": []
    },
    {
      "cell_type": "code",
      "metadata": {
        "colab": {
          "base_uri": "https://localhost:8080/",
          "height": 575
        },
        "id": "5selk1uVUnM2",
        "outputId": "1f3ecb63-f5e2-43bf-faa9-548bab53eb4c"
      },
      "source": [
        "import pandas as pd\n",
        "df1= pd.read_csv(\"/content/final.csv\")\n",
        "df1.head(10)"
      ],
      "execution_count": null,
      "outputs": [
        {
          "output_type": "execute_result",
          "data": {
            "text/html": [
              "<div>\n",
              "<style scoped>\n",
              "    .dataframe tbody tr th:only-of-type {\n",
              "        vertical-align: middle;\n",
              "    }\n",
              "\n",
              "    .dataframe tbody tr th {\n",
              "        vertical-align: top;\n",
              "    }\n",
              "\n",
              "    .dataframe thead th {\n",
              "        text-align: right;\n",
              "    }\n",
              "</style>\n",
              "<table border=\"1\" class=\"dataframe\">\n",
              "  <thead>\n",
              "    <tr style=\"text-align: right;\">\n",
              "      <th></th>\n",
              "      <th></th>\n",
              "      <th>name</th>\n",
              "      <th>light_years_from_earth</th>\n",
              "      <th>planet_mass</th>\n",
              "      <th>stellar_magnitude</th>\n",
              "      <th>discovery_date</th>\n",
              "      <th>hyperlink</th>\n",
              "      <th>planet_type</th>\n",
              "      <th>planet_radius</th>\n",
              "      <th>orbital_radius</th>\n",
              "      <th>orbital_period</th>\n",
              "      <th>eccentricity</th>\n",
              "    </tr>\n",
              "  </thead>\n",
              "  <tbody>\n",
              "    <tr>\n",
              "      <th>11 Comae Berenices b</th>\n",
              "      <th>304.0</th>\n",
              "      <td>19.4 Jupiters</td>\n",
              "      <td>4.72307</td>\n",
              "      <td>2007</td>\n",
              "      <td>https://exoplanets.nasa.gov/exoplanet-catalog/...</td>\n",
              "      <td>Gas Giant</td>\n",
              "      <td>2007</td>\n",
              "      <td>19.4 Jupiters</td>\n",
              "      <td>1.08 x Jupiter</td>\n",
              "      <td>1.29 AU</td>\n",
              "      <td>326 days</td>\n",
              "      <td>0.23</td>\n",
              "    </tr>\n",
              "    <tr>\n",
              "      <th>11 Ursae Minoris b</th>\n",
              "      <th>409.0</th>\n",
              "      <td>14.74 Jupiters</td>\n",
              "      <td>5.01300</td>\n",
              "      <td>2009</td>\n",
              "      <td>https://exoplanets.nasa.gov/exoplanet-catalog/...</td>\n",
              "      <td>Gas Giant</td>\n",
              "      <td>2009</td>\n",
              "      <td>14.74 Jupiters</td>\n",
              "      <td>1.09 x Jupiter</td>\n",
              "      <td>1.53 AU</td>\n",
              "      <td>1.4 years</td>\n",
              "      <td>0.08</td>\n",
              "    </tr>\n",
              "    <tr>\n",
              "      <th>14 Andromedae b</th>\n",
              "      <th>246.0</th>\n",
              "      <td>4.8 Jupiters</td>\n",
              "      <td>5.23133</td>\n",
              "      <td>2008</td>\n",
              "      <td>https://exoplanets.nasa.gov/exoplanet-catalog/...</td>\n",
              "      <td>Gas Giant</td>\n",
              "      <td>2008</td>\n",
              "      <td>4.8 Jupiters</td>\n",
              "      <td>1.15 x Jupiter</td>\n",
              "      <td>0.83 AU</td>\n",
              "      <td>185.8 days</td>\n",
              "      <td>0.0</td>\n",
              "    </tr>\n",
              "    <tr>\n",
              "      <th>14 Herculis b</th>\n",
              "      <th>58.0</th>\n",
              "      <td>4.66 Jupiters</td>\n",
              "      <td>6.61935</td>\n",
              "      <td>2002</td>\n",
              "      <td>https://exoplanets.nasa.gov/exoplanet-catalog/...</td>\n",
              "      <td>Gas Giant</td>\n",
              "      <td>2002</td>\n",
              "      <td>4.66 Jupiters</td>\n",
              "      <td>1.15 x Jupiter</td>\n",
              "      <td>2.93 AU</td>\n",
              "      <td>4.9 years</td>\n",
              "      <td>0.37</td>\n",
              "    </tr>\n",
              "    <tr>\n",
              "      <th>16 Cygni B b</th>\n",
              "      <th>69.0</th>\n",
              "      <td>1.78 Jupiters</td>\n",
              "      <td>6.21500</td>\n",
              "      <td>1996</td>\n",
              "      <td>https://exoplanets.nasa.gov/exoplanet-catalog/...</td>\n",
              "      <td>Gas Giant</td>\n",
              "      <td>1996</td>\n",
              "      <td>1.78 Jupiters</td>\n",
              "      <td>1.2 x Jupiter</td>\n",
              "      <td>1.66 AU</td>\n",
              "      <td>2.2 years</td>\n",
              "      <td>0.68</td>\n",
              "    </tr>\n",
              "    <tr>\n",
              "      <th>18 Delphini b</th>\n",
              "      <th>249.0</th>\n",
              "      <td>10.3 Jupiters</td>\n",
              "      <td>5.51048</td>\n",
              "      <td>2008</td>\n",
              "      <td>https://exoplanets.nasa.gov/exoplanet-catalog/...</td>\n",
              "      <td>Gas Giant</td>\n",
              "      <td>2008</td>\n",
              "      <td>10.3 Jupiters</td>\n",
              "      <td>1.11 x Jupiter</td>\n",
              "      <td>2.6 AU</td>\n",
              "      <td>2.7 years</td>\n",
              "      <td>0.08</td>\n",
              "    </tr>\n",
              "    <tr>\n",
              "      <th>1RXS J160929.1-210524 b</th>\n",
              "      <th>454.0</th>\n",
              "      <td>8 Jupiters</td>\n",
              "      <td>12.61800</td>\n",
              "      <td>2008</td>\n",
              "      <td>https://exoplanets.nasa.gov/exoplanet-catalog/...</td>\n",
              "      <td>Gas Giant</td>\n",
              "      <td>2008</td>\n",
              "      <td>8 Jupiters</td>\n",
              "      <td>1.664 x Jupiter</td>\n",
              "      <td>330.0 AU</td>\n",
              "      <td>6505.9 years</td>\n",
              "      <td>0.0</td>\n",
              "    </tr>\n",
              "    <tr>\n",
              "      <th>24 Bootis b</th>\n",
              "      <th>313.0</th>\n",
              "      <td>0.91 Jupiters</td>\n",
              "      <td>5.59000</td>\n",
              "      <td>2018</td>\n",
              "      <td>https://exoplanets.nasa.gov/exoplanet-catalog/...</td>\n",
              "      <td>Gas Giant</td>\n",
              "      <td>2018</td>\n",
              "      <td>0.91 Jupiters</td>\n",
              "      <td>1.24 x Jupiter</td>\n",
              "      <td>0.19 AU</td>\n",
              "      <td>30.4 days</td>\n",
              "      <td>0.04</td>\n",
              "    </tr>\n",
              "    <tr>\n",
              "      <th>24 Sextantis b</th>\n",
              "      <th>235.0</th>\n",
              "      <td>1.99 Jupiters</td>\n",
              "      <td>6.45350</td>\n",
              "      <td>2010</td>\n",
              "      <td>https://exoplanets.nasa.gov/exoplanet-catalog/...</td>\n",
              "      <td>Gas Giant</td>\n",
              "      <td>2010</td>\n",
              "      <td>1.99 Jupiters</td>\n",
              "      <td>1.19 x Jupiter</td>\n",
              "      <td>1.333 AU</td>\n",
              "      <td>452.8 days</td>\n",
              "      <td>0.09</td>\n",
              "    </tr>\n",
              "    <tr>\n",
              "      <th>24 Sextantis c</th>\n",
              "      <th>235.0</th>\n",
              "      <td>0.86 Jupiters</td>\n",
              "      <td>6.45350</td>\n",
              "      <td>2010</td>\n",
              "      <td>https://exoplanets.nasa.gov/exoplanet-catalog/...</td>\n",
              "      <td>Gas Giant</td>\n",
              "      <td>2010</td>\n",
              "      <td>0.86 Jupiters</td>\n",
              "      <td>1.24 x Jupiter</td>\n",
              "      <td>2.08 AU</td>\n",
              "      <td>2.4 years</td>\n",
              "      <td>0.29</td>\n",
              "    </tr>\n",
              "  </tbody>\n",
              "</table>\n",
              "</div>"
            ],
            "text/plain": [
              "                                         name  ...  eccentricity\n",
              "11 Comae Berenices b    304.0   19.4 Jupiters  ...          0.23\n",
              "11 Ursae Minoris b      409.0  14.74 Jupiters  ...          0.08\n",
              "14 Andromedae b         246.0    4.8 Jupiters  ...           0.0\n",
              "14 Herculis b           58.0    4.66 Jupiters  ...          0.37\n",
              "16 Cygni B b            69.0    1.78 Jupiters  ...          0.68\n",
              "18 Delphini b           249.0   10.3 Jupiters  ...          0.08\n",
              "1RXS J160929.1-210524 b 454.0      8 Jupiters  ...           0.0\n",
              "24 Bootis b             313.0   0.91 Jupiters  ...          0.04\n",
              "24 Sextantis b          235.0   1.99 Jupiters  ...          0.09\n",
              "24 Sextantis c          235.0   0.86 Jupiters  ...          0.29\n",
              "\n",
              "[10 rows x 11 columns]"
            ]
          },
          "metadata": {},
          "execution_count": 9
        }
      ]
    },
    {
      "cell_type": "code",
      "metadata": {
        "id": "ZLCtxlMXpxPP"
      },
      "source": [
        ""
      ],
      "execution_count": null,
      "outputs": []
    }
  ]
}